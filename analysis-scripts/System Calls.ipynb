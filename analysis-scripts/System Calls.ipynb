{
 "cells": [
  {
   "cell_type": "code",
   "execution_count": 1,
   "metadata": {
    "collapsed": true
   },
   "outputs": [],
   "source": [
    "import pandas as pd\n",
    "import numpy as np\n",
    "import matplotlib\n",
    "matplotlib.use('PS') \n",
    "import matplotlib.pyplot as plt\n",
    "import time\n",
    "import datetime\n",
    "import filterbyip as fbi\n",
    "import Cdf\n",
    "import Pmf"
   ]
  },
  {
   "cell_type": "code",
   "execution_count": 2,
   "metadata": {
    "collapsed": true
   },
   "outputs": [],
   "source": [
    "quic = pd.read_csv('./data/pi-1/strace/quic_strace.csv',',')\n",
    "tcp = pd.read_csv('./data/pi-1/strace/tcp_strace.csv',',')"
   ]
  },
  {
   "cell_type": "code",
   "execution_count": 3,
   "metadata": {},
   "outputs": [
    {
     "data": {
      "text/html": [
       "<div>\n",
       "<style>\n",
       "    .dataframe thead tr:only-child th {\n",
       "        text-align: right;\n",
       "    }\n",
       "\n",
       "    .dataframe thead th {\n",
       "        text-align: left;\n",
       "    }\n",
       "\n",
       "    .dataframe tbody tr th {\n",
       "        vertical-align: top;\n",
       "    }\n",
       "</style>\n",
       "<table border=\"1\" class=\"dataframe\">\n",
       "  <thead>\n",
       "    <tr style=\"text-align: right;\">\n",
       "      <th></th>\n",
       "      <th>Unnamed: 0</th>\n",
       "      <th>%time</th>\n",
       "      <th>seconds</th>\n",
       "      <th>usecs/call</th>\n",
       "      <th>calls</th>\n",
       "      <th>syscall</th>\n",
       "    </tr>\n",
       "  </thead>\n",
       "  <tbody>\n",
       "    <tr>\n",
       "      <th>0</th>\n",
       "      <td>0</td>\n",
       "      <td>76.89</td>\n",
       "      <td>1.949677</td>\n",
       "      <td>24</td>\n",
       "      <td>80800</td>\n",
       "      <td>recvmsg</td>\n",
       "    </tr>\n",
       "    <tr>\n",
       "      <th>1</th>\n",
       "      <td>1</td>\n",
       "      <td>17.33</td>\n",
       "      <td>0.439416</td>\n",
       "      <td>201</td>\n",
       "      <td>2191</td>\n",
       "      <td>epoll_wait</td>\n",
       "    </tr>\n",
       "    <tr>\n",
       "      <th>2</th>\n",
       "      <td>2</td>\n",
       "      <td>4.79</td>\n",
       "      <td>0.121456</td>\n",
       "      <td>57</td>\n",
       "      <td>2141</td>\n",
       "      <td>sendmsg</td>\n",
       "    </tr>\n",
       "    <tr>\n",
       "      <th>3</th>\n",
       "      <td>3</td>\n",
       "      <td>0.22</td>\n",
       "      <td>0.005475</td>\n",
       "      <td>57</td>\n",
       "      <td>96</td>\n",
       "      <td>brk</td>\n",
       "    </tr>\n",
       "    <tr>\n",
       "      <th>4</th>\n",
       "      <td>4</td>\n",
       "      <td>0.18</td>\n",
       "      <td>0.004439</td>\n",
       "      <td>2220</td>\n",
       "      <td>2</td>\n",
       "      <td>poll</td>\n",
       "    </tr>\n",
       "  </tbody>\n",
       "</table>\n",
       "</div>"
      ],
      "text/plain": [
       "   Unnamed: 0  %time   seconds  usecs/call  calls     syscall\n",
       "0           0  76.89  1.949677          24  80800     recvmsg\n",
       "1           1  17.33  0.439416         201   2191  epoll_wait\n",
       "2           2   4.79  0.121456          57   2141     sendmsg\n",
       "3           3   0.22  0.005475          57     96         brk\n",
       "4           4   0.18  0.004439        2220      2        poll"
      ]
     },
     "execution_count": 3,
     "metadata": {},
     "output_type": "execute_result"
    }
   ],
   "source": [
    "quic.head()"
   ]
  },
  {
   "cell_type": "code",
   "execution_count": 4,
   "metadata": {},
   "outputs": [
    {
     "data": {
      "text/html": [
       "<div>\n",
       "<style>\n",
       "    .dataframe thead tr:only-child th {\n",
       "        text-align: right;\n",
       "    }\n",
       "\n",
       "    .dataframe thead th {\n",
       "        text-align: left;\n",
       "    }\n",
       "\n",
       "    .dataframe tbody tr th {\n",
       "        vertical-align: top;\n",
       "    }\n",
       "</style>\n",
       "<table border=\"1\" class=\"dataframe\">\n",
       "  <thead>\n",
       "    <tr style=\"text-align: right;\">\n",
       "      <th></th>\n",
       "      <th>Unnamed: 0</th>\n",
       "      <th>%time</th>\n",
       "      <th>seconds</th>\n",
       "      <th>usecs/call</th>\n",
       "      <th>calls</th>\n",
       "      <th>syscall</th>\n",
       "    </tr>\n",
       "  </thead>\n",
       "  <tbody>\n",
       "    <tr>\n",
       "      <th>40</th>\n",
       "      <td>40</td>\n",
       "      <td>0.0</td>\n",
       "      <td>0.000039</td>\n",
       "      <td>39</td>\n",
       "      <td>1</td>\n",
       "      <td>rt_sigprocmask</td>\n",
       "    </tr>\n",
       "    <tr>\n",
       "      <th>41</th>\n",
       "      <td>41</td>\n",
       "      <td>0.0</td>\n",
       "      <td>0.000039</td>\n",
       "      <td>39</td>\n",
       "      <td>1</td>\n",
       "      <td>set_tid_address</td>\n",
       "    </tr>\n",
       "    <tr>\n",
       "      <th>42</th>\n",
       "      <td>42</td>\n",
       "      <td>0.0</td>\n",
       "      <td>0.000039</td>\n",
       "      <td>39</td>\n",
       "      <td>1</td>\n",
       "      <td>set_tls</td>\n",
       "    </tr>\n",
       "    <tr>\n",
       "      <th>43</th>\n",
       "      <td>43</td>\n",
       "      <td>0.0</td>\n",
       "      <td>0.000036</td>\n",
       "      <td>36</td>\n",
       "      <td>1</td>\n",
       "      <td>set_robust_list</td>\n",
       "    </tr>\n",
       "    <tr>\n",
       "      <th>44</th>\n",
       "      <td>44</td>\n",
       "      <td>0.0</td>\n",
       "      <td>0.000025</td>\n",
       "      <td>25</td>\n",
       "      <td>1</td>\n",
       "      <td>_llseek</td>\n",
       "    </tr>\n",
       "  </tbody>\n",
       "</table>\n",
       "</div>"
      ],
      "text/plain": [
       "    Unnamed: 0  %time   seconds  usecs/call  calls          syscall\n",
       "40          40    0.0  0.000039          39      1   rt_sigprocmask\n",
       "41          41    0.0  0.000039          39      1  set_tid_address\n",
       "42          42    0.0  0.000039          39      1          set_tls\n",
       "43          43    0.0  0.000036          36      1  set_robust_list\n",
       "44          44    0.0  0.000025          25      1          _llseek"
      ]
     },
     "execution_count": 4,
     "metadata": {},
     "output_type": "execute_result"
    }
   ],
   "source": [
    "quic.tail()"
   ]
  },
  {
   "cell_type": "code",
   "execution_count": 5,
   "metadata": {},
   "outputs": [
    {
     "data": {
      "text/html": [
       "<div>\n",
       "<style>\n",
       "    .dataframe thead tr:only-child th {\n",
       "        text-align: right;\n",
       "    }\n",
       "\n",
       "    .dataframe thead th {\n",
       "        text-align: left;\n",
       "    }\n",
       "\n",
       "    .dataframe tbody tr th {\n",
       "        vertical-align: top;\n",
       "    }\n",
       "</style>\n",
       "<table border=\"1\" class=\"dataframe\">\n",
       "  <thead>\n",
       "    <tr style=\"text-align: right;\">\n",
       "      <th></th>\n",
       "      <th>Unnamed: 0</th>\n",
       "      <th>%time</th>\n",
       "      <th>seconds</th>\n",
       "      <th>usecs/call</th>\n",
       "      <th>calls</th>\n",
       "      <th>syscall</th>\n",
       "    </tr>\n",
       "  </thead>\n",
       "  <tbody>\n",
       "    <tr>\n",
       "      <th>0</th>\n",
       "      <td>0</td>\n",
       "      <td>34.01</td>\n",
       "      <td>1.534979</td>\n",
       "      <td>29</td>\n",
       "      <td>52575</td>\n",
       "      <td>read</td>\n",
       "    </tr>\n",
       "    <tr>\n",
       "      <th>1</th>\n",
       "      <td>1</td>\n",
       "      <td>33.11</td>\n",
       "      <td>1.494367</td>\n",
       "      <td>33</td>\n",
       "      <td>45403</td>\n",
       "      <td>poll</td>\n",
       "    </tr>\n",
       "    <tr>\n",
       "      <th>2</th>\n",
       "      <td>2</td>\n",
       "      <td>32.72</td>\n",
       "      <td>1.476526</td>\n",
       "      <td>22</td>\n",
       "      <td>68123</td>\n",
       "      <td>rt_sigaction</td>\n",
       "    </tr>\n",
       "    <tr>\n",
       "      <th>3</th>\n",
       "      <td>3</td>\n",
       "      <td>0.02</td>\n",
       "      <td>0.001006</td>\n",
       "      <td>53</td>\n",
       "      <td>19</td>\n",
       "      <td>mmap2</td>\n",
       "    </tr>\n",
       "    <tr>\n",
       "      <th>4</th>\n",
       "      <td>4</td>\n",
       "      <td>0.02</td>\n",
       "      <td>0.000853</td>\n",
       "      <td>50</td>\n",
       "      <td>17</td>\n",
       "      <td>mprotect</td>\n",
       "    </tr>\n",
       "  </tbody>\n",
       "</table>\n",
       "</div>"
      ],
      "text/plain": [
       "   Unnamed: 0  %time   seconds  usecs/call  calls       syscall\n",
       "0           0  34.01  1.534979          29  52575          read\n",
       "1           1  33.11  1.494367          33  45403          poll\n",
       "2           2  32.72  1.476526          22  68123  rt_sigaction\n",
       "3           3   0.02  0.001006          53     19         mmap2\n",
       "4           4   0.02  0.000853          50     17      mprotect"
      ]
     },
     "execution_count": 5,
     "metadata": {},
     "output_type": "execute_result"
    }
   ],
   "source": [
    "tcp.head()"
   ]
  },
  {
   "cell_type": "code",
   "execution_count": 6,
   "metadata": {},
   "outputs": [
    {
     "data": {
      "text/html": [
       "<div>\n",
       "<style>\n",
       "    .dataframe thead tr:only-child th {\n",
       "        text-align: right;\n",
       "    }\n",
       "\n",
       "    .dataframe thead th {\n",
       "        text-align: left;\n",
       "    }\n",
       "\n",
       "    .dataframe tbody tr th {\n",
       "        vertical-align: top;\n",
       "    }\n",
       "</style>\n",
       "<table border=\"1\" class=\"dataframe\">\n",
       "  <thead>\n",
       "    <tr style=\"text-align: right;\">\n",
       "      <th></th>\n",
       "      <th>Unnamed: 0</th>\n",
       "      <th>%time</th>\n",
       "      <th>seconds</th>\n",
       "      <th>usecs/call</th>\n",
       "      <th>calls</th>\n",
       "      <th>syscall</th>\n",
       "    </tr>\n",
       "  </thead>\n",
       "  <tbody>\n",
       "    <tr>\n",
       "      <th>27</th>\n",
       "      <td>27</td>\n",
       "      <td>0.0</td>\n",
       "      <td>0.000038</td>\n",
       "      <td>38</td>\n",
       "      <td>1</td>\n",
       "      <td>set_tid_address</td>\n",
       "    </tr>\n",
       "    <tr>\n",
       "      <th>28</th>\n",
       "      <td>28</td>\n",
       "      <td>0.0</td>\n",
       "      <td>0.000037</td>\n",
       "      <td>37</td>\n",
       "      <td>1</td>\n",
       "      <td>getsockname</td>\n",
       "    </tr>\n",
       "    <tr>\n",
       "      <th>29</th>\n",
       "      <td>29</td>\n",
       "      <td>0.0</td>\n",
       "      <td>0.000037</td>\n",
       "      <td>37</td>\n",
       "      <td>1</td>\n",
       "      <td>set_robust_list</td>\n",
       "    </tr>\n",
       "    <tr>\n",
       "      <th>30</th>\n",
       "      <td>30</td>\n",
       "      <td>0.0</td>\n",
       "      <td>0.000037</td>\n",
       "      <td>37</td>\n",
       "      <td>1</td>\n",
       "      <td>set_tls</td>\n",
       "    </tr>\n",
       "    <tr>\n",
       "      <th>31</th>\n",
       "      <td>31</td>\n",
       "      <td>0.0</td>\n",
       "      <td>0.000023</td>\n",
       "      <td>23</td>\n",
       "      <td>1</td>\n",
       "      <td>_llseek</td>\n",
       "    </tr>\n",
       "  </tbody>\n",
       "</table>\n",
       "</div>"
      ],
      "text/plain": [
       "    Unnamed: 0  %time   seconds  usecs/call  calls          syscall\n",
       "27          27    0.0  0.000038          38      1  set_tid_address\n",
       "28          28    0.0  0.000037          37      1      getsockname\n",
       "29          29    0.0  0.000037          37      1  set_robust_list\n",
       "30          30    0.0  0.000037          37      1          set_tls\n",
       "31          31    0.0  0.000023          23      1          _llseek"
      ]
     },
     "execution_count": 6,
     "metadata": {},
     "output_type": "execute_result"
    }
   ],
   "source": [
    "tcp.tail()"
   ]
  },
  {
   "cell_type": "code",
   "execution_count": 7,
   "metadata": {},
   "outputs": [
    {
     "name": "stdout",
     "output_type": "stream",
     "text": [
      "{'%time': 99.98000000000002, 'seconds': 2.535678999999999, 'calls': 85549}\n"
     ]
    }
   ],
   "source": [
    "sum_row = {col: quic[col].sum() for col in ['%time','seconds','calls']}\n",
    "print(sum_row)"
   ]
  },
  {
   "cell_type": "code",
   "execution_count": 8,
   "metadata": {},
   "outputs": [
    {
     "name": "stdout",
     "output_type": "stream",
     "text": [
      "{'%time': 99.97000000000003, 'seconds': 4.513160000000002, 'calls': 166244}\n"
     ]
    }
   ],
   "source": [
    "sum_row = {col: tcp[col].sum() for col in ['%time','seconds','calls']}\n",
    "print(sum_row)"
   ]
  }
 ],
 "metadata": {
  "jupytext": {
   "formats": "ipynb,py:light",
   "main_language": "python",
   "text_representation": {
    "extension": ".py",
    "format_name": "light",
    "format_version": "1.3",
    "jupytext_version": "0.8.6"
   }
  },
  "kernelspec": {
   "display_name": "Python 3",
   "language": "python",
   "name": "python3"
  },
  "language_info": {
   "codemirror_mode": {
    "name": "ipython",
    "version": 3
   },
   "file_extension": ".py",
   "mimetype": "text/x-python",
   "name": "python",
   "nbconvert_exporter": "python",
   "pygments_lexer": "ipython3",
   "version": "3.6.8"
  }
 },
 "nbformat": 4,
 "nbformat_minor": 2
}
